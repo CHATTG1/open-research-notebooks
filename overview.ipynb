{
 "cells": [
  {
   "cell_type": "markdown",
   "metadata": {
    "slideshow": {
     "slide_type": "slide"
    }
   },
   "source": [
    "<div style=\"display: flex;\">\n",
    "<!-- ; background:url('https://desirschool.sciencesconf.org/data/header/archives_1.jpg')  repeat center center; color: #fff; -->    \n",
    "  <div style=\"flex: 33%;\">\n",
    "      <img src=\"https://desirschool.sciencesconf.org/data/header/DESIR_logo_1.jpg\" width=500>\n",
    "  </div>\n",
    "  <div style=\"flex: 66%; margin: 1em; text-align: center;\">\n",
    "    <h1> DESIR Winter School: Shaping new approaches to data management in arts and humanities </h1>\n",
    "    <h2> Open Research Notebooks </h2>\n",
    "    <h3> 10-13 Dec 2019 Lisbon (Portugal) </h3>\n",
    "  </div>\n",
    "</div>"
   ]
  },
  {
   "cell_type": "markdown",
   "metadata": {
    "slideshow": {
     "slide_type": "slide"
    }
   },
   "source": [
    "### About me\n",
    "<br>\n",
    "<div style=\"display: flex;\">\n",
    "  <div style=\"flex: 50%;\">\n",
    "      <img src=\"https://www.dropbox.com/s/8u2cy57qpz4yx1y/profile_pic.jpg?raw=1\" width=200/>\n",
    "  </div>\n",
    "  <div style=\"flex: 50%;margin: 1em;\">\n",
    "      <b>Javier de la Rosa</b>, <a href=\"mailto:versae@gmail.com\"><i>versae@gmail.com</i></a>, <a href=\"https://twitter.com/versae\"><i>@versae</i></a>\n",
    "      <br />\n",
    "      <br />\n",
    "      <div style=\"padding-left: 1em;\">\n",
    "      Postdoctoral Researcher in NLP at UNED (ERC POSTDATA Project), Spain\n",
    "      <br />\n",
    "      PhD in Hispanic Studies (Digital Humanities), University of Western Ontario, Canada\n",
    "      <br />\n",
    "      Master in Artificial Intelligence, Universidad de Sevilla, Spain\n",
    "      <br />\n",
    "      <br />\n",
    "      Ex-Research Software Engineer at Stanford University, California\n",
    "      <br />\n",
    "      Ex-Technical Lead at the CulturePlex Lab, University of Western Ontario, Canada\n",
    "      </div>\n",
    "  </div>\n",
    "</div>"
   ]
  },
  {
   "cell_type": "markdown",
   "metadata": {
    "slideshow": {
     "slide_type": "slide"
    }
   },
   "source": [
    "### Working with Jupyter\n",
    "\n",
    "Let's now see how to work with Jupyter Notebooks.\n",
    "\n",
    "This notebook is inspired by the Software Carpentry and Data Carpentry's [\"Reproducible Research using Jupyter Notebooks\"](https://reproducible-science-curriculum.github.io/workshop-RR-Jupyter/) and Quinn Dombrowski, Tassie Gniady, and David Kloster, \"Introduction to Jupyter Notebooks,\" The Programming Historian 8 (2019), https://programminghistorian.org/en/lessons/jupyter-notebooks."
   ]
  },
  {
   "cell_type": "markdown",
   "metadata": {
    "slideshow": {
     "slide_type": "slide"
    }
   },
   "source": [
    "### Installing Jupyter\n",
    "\n",
    "- Locally:\n",
    "  If Python 3 is already installed (remember, [Python 2 is reaching end of life Jan 1st, 2020](https://pythonclock.org/)):\n",
    "  ```bash\n",
    "  $ pip3 install jupyter\n",
    "  ```\n",
    "  \n",
    "  If not, Anaconda is an good option too: https://www.anaconda.com/distribution/#download-section\n",
    "\n",
    "- Cloud:\n",
    "  There are links to use Binder for all notebooks in the [GitHub repository of this session](https://github.com/versae/open-research-notebooks).\n",
    "\n",
    "| Nbviewer | Jupyter Notebook | Jupyter Lab | Google Colab |\n",
    "| ---      | --               | ---         | ---          |\n",
    "| [slides.ipynb](https://nbviewer.jupyter.org/github/versae/open-research-notebooks/blob/master/slides.ipynb) | [![Binder](https://mybinder.org/badge_logo.svg)](https://mybinder.org/v2/gh/versae/open-research-notebooks/master?filepath=slides.ipynb) | [![Binder](https://mybinder.org/badge_logo.svg)](https://mybinder.org/v2/gh/versae/open-research-notebooks/master?urlpath=lab/tree/slides.ipynb) | [![Colab](https://colab.research.google.com/assets/colab-badge.svg)](https://colab.research.google.com/github/versae/open-research-notebooks/blob/master/slides.ipynb) |\n",
    "| [overview.ipynb](https://nbviewer.jupyter.org/github/versae/open-research-notebooks/blob/master/overview.ipynb) | [![Binder](https://mybinder.org/badge_logo.svg)](https://mybinder.org/v2/gh/versae/open-research-notebooks/master?filepath=overview.ipynb) | [![Binder](https://mybinder.org/badge_logo.svg)](https://mybinder.org/v2/gh/versae/open-research-notebooks/master?urlpath=lab/tree/overview.ipynb) | [![Colab](https://colab.research.google.com/assets/colab-badge.svg)](https://colab.research.google.com/github/versae/open-research-notebooks/blob/master/overview.ipynb) |\n",
    "| [research.ipynb](https://nbviewer.jupyter.org/github/versae/open-research-notebooks/blob/master/research.ipynb) | [![Binder](https://mybinder.org/badge_logo.svg)](https://mybinder.org/v2/gh/versae/open-research-notebooks/master?filepath=research.ipynb) | [![Binder](https://mybinder.org/badge_logo.svg)](https://mybinder.org/v2/gh/versae/open-research-notebooks/master?urlpath=lab/tree/research.ipynb) | [![Colab](https://colab.research.google.com/assets/colab-badge.svg)](https://colab.research.google.com/github/versae/open-research-notebooks/blob/master/research.ipynb) |\n",
    "\n",
    "  The entire the repo can also be loaded in [Binder](https://mybinder.org/v2/gh/versae/open-research-notebooks/master) or import it into <a href=\"https://notebooks.azure.com/import/gh/versae/open-research-notebooks\" rel=\"nofollow\">Azure Notebooks</a>.\n"
   ]
  },
  {
   "cell_type": "markdown",
   "metadata": {
    "slideshow": {
     "slide_type": "slide"
    }
   },
   "source": [
    "### Installing dependencies"
   ]
  },
  {
   "cell_type": "code",
   "execution_count": 25,
   "metadata": {
    "slideshow": {
     "slide_type": "-"
    }
   },
   "outputs": [],
   "source": [
    "import sys\n",
    "requirements = \"https://raw.githubusercontent.com/versae/open-research-notebooks/master/requirements.txt\"\n",
    "!{sys.executable} -m pip install -r {requirements}"
   ]
  },
  {
   "cell_type": "markdown",
   "metadata": {
    "slideshow": {
     "slide_type": "slide"
    }
   },
   "source": [
    "### Launching Jupyter Notebook\n",
    "\n",
    "Either type:\n",
    "```bash\n",
    "$ jupyter notebook\n",
    "```\n",
    "\n",
    "Or click on the \"Launch\" button of *Jupyter Notebook* in Anaconda.\n",
    "\n",
    "![Anaconda](https://programminghistorian.org/images/jupyter-notebooks/anaconda-navigator.png)\n",
    "\n",
    "<small>Quinn Dombrowski, Tassie Gniady, and David Kloster, \"Introduction to Jupyter Notebooks,\" The Programming Historian 8 (2019), https://programminghistorian.org/en/lessons/jupyter-notebooks.</small>"
   ]
  },
  {
   "cell_type": "markdown",
   "metadata": {
    "slideshow": {
     "slide_type": "slide"
    }
   },
   "source": [
    "### Code Cells\n",
    "\n",
    "A new notebook contains a single, executable code cell.\n",
    "\n",
    "Add a line of code and execute it by:\n",
    "- clicking the run button, or\n",
    "- click in the cell, and press shift-return"
   ]
  },
  {
   "cell_type": "code",
   "execution_count": 2,
   "metadata": {
    "jupyter": {
     "outputs_hidden": false
    },
    "slideshow": {
     "slide_type": "fragment"
    }
   },
   "outputs": [
    {
     "name": "stdout",
     "output_type": "stream",
     "text": [
      "hello world\n"
     ]
    }
   ],
   "source": [
    "print('hello world')"
   ]
  },
  {
   "cell_type": "markdown",
   "metadata": {
    "slideshow": {
     "slide_type": "slide"
    }
   },
   "source": [
    "### Adding Narrative with Markdown\n",
    "\n",
    "- __Add a new cell__ to the notebook: click the + button on the toolbar\n",
    "\n",
    "- __Change the cell type__ using the drop down list in the toolbar or by using the ESC-M keyboard shortcut.\n",
    "\n",
    "To \"open\" or __select a markdown cell for editing__, double click the cell.\n",
    "\n",
    "View the rendered markdown by running the cell:\n",
    "- hit the play button on the toolbar, or\n",
    "- use the SHIFT-RETURN keyboard shortcut."
   ]
  },
  {
   "cell_type": "markdown",
   "metadata": {
    "slideshow": {
     "slide_type": "slide"
    }
   },
   "source": [
    "# Simple Markdown 1\n",
    "\n",
    "Markdown cells use markdown to generate formatted text:\n",
    "\n",
    "- inline styles\n",
    "  - *emphasise text*\n",
    "  - __strongly emphasise__ text \n",
    "  \n",
    "## Sub-headings\n",
    "Markdown can also show `inline code` styles as well as code blocks:\n",
    "\n",
    "````\n",
    "def mycode():\n",
    "    ''' Here is my non-executable code '''\n",
    "    pass\n",
    "````\n",
    "\n",
    "So what does the actual markdown look like?"
   ]
  },
  {
   "cell_type": "raw",
   "metadata": {
    "slideshow": {
     "slide_type": "slide"
    }
   },
   "source": [
    "# Simple Markdown\n",
    "\n",
    "Markdown cells use markdown to generate formatted text:\n",
    "\n",
    "- inline styles\n",
    "  - *emphasise text*\n",
    "  - __strongly emphasise__ text \n",
    "  \n",
    "## Sub-headings\n",
    "Markdown can also show `inline code` styles as well as code blocks:\n",
    "\n",
    "```\n",
    "def mycode():\n",
    "    ''' Here is my non-executable code '''\n",
    "    pass\n",
    "```"
   ]
  },
  {
   "cell_type": "markdown",
   "metadata": {
    "slideshow": {
     "slide_type": "slide"
    }
   },
   "source": [
    "# Simple Markdown\n",
    "\n",
    "Markdown cells use markdown to generate formatted text:\n",
    "\n",
    "- inline styles\n",
    "  - *emphasise text*\n",
    "  - __strongly emphasise__ text \n",
    "  \n",
    "## Sub-headings\n",
    "Markdown can also show `inline code` styles as well as code blocks:\n",
    "\n",
    "```\n",
    "def mycode():\n",
    "    ''' Here is my non-executable code '''\n",
    "    pass\n",
    "```"
   ]
  },
  {
   "cell_type": "raw",
   "metadata": {},
   "source": [
    "# Simple Markdown\n",
    "\n",
    "Markdown can include weblinks, e.g. to [Data Carpentry](https://datacarpentry.org), as well as links to named elements [in the same notebook](#navlink), or [other notebooks](./slides.ipynb).\n",
    "\n",
    "Markdown can embed images:\n",
    "\n",
    "![Jupyter logo](https://jupyter.org/assets/main-logo.svg)"
   ]
  },
  {
   "cell_type": "markdown",
   "metadata": {
    "slideshow": {
     "slide_type": "slide"
    }
   },
   "source": [
    "# Simple Markdown\n",
    "\n",
    "Markdown can include weblinks, e.g. to [Data Carpentry](https://datacarpentry.org), as well as links to named elements [in the same notebook](#navlink), or [other notebooks](./slides.ipynb).\n",
    "\n",
    "Markdown can embed images:\n",
    "\n",
    "![Jupyter logo](https://jupyter.org/assets/main-logo.svg)"
   ]
  },
  {
   "cell_type": "markdown",
   "metadata": {
    "slideshow": {
     "slide_type": "slide"
    }
   },
   "source": [
    "### Markdown cells can include Latex Expressions\n",
    "\n",
    "Mathematical expessions can be rendered inline by wrapping a LaTeX expression (no spaces) with a $ either side.\n",
    "\n",
    "`$e^x=\\sum_{i=0}^\\infty \\frac{1}{i!}x^i$`\n",
    "\n",
    "is rendered inline: $e^x=\\sum_{i=0}^\\infty \\frac{1}{i!}x^i$\n",
    "\n",
    "Use `$$` to render in the centre of a new line: $$e^x=\\sum_{i=0}^\\infty \\frac{1}{i!}x^i$$"
   ]
  },
  {
   "cell_type": "markdown",
   "metadata": {
    "slideshow": {
     "slide_type": "slide"
    }
   },
   "source": [
    "### Navigating and Selecting Cells\n",
    "\n",
    "To select a cell, __click on it__. The selected cell will be surrounded by a box with the left hand side highlighted.\n",
    "\n",
    "Move the selection focus to the cell above/below using the keyboard up/down arrow keys.\n",
    "\n",
    "Select multiple adjacent cells using `SHIFT-UP ARROW` or `SHIFT-DOWN ARROW`"
   ]
  },
  {
   "cell_type": "markdown",
   "metadata": {
    "slideshow": {
     "slide_type": "slide"
    }
   },
   "source": [
    "### Managing Cells - Add, Delete\n",
    "\n",
    "Add a new cell to the notebook by:\n",
    " - click the + button on the toolbar\n",
    " - `Insert → Insert Cell Above` or `ESC-A`\n",
    " - `Insert → Insert Cell Below` or `ESC-B`"
   ]
  },
  {
   "cell_type": "markdown",
   "metadata": {
    "slideshow": {
     "slide_type": "fragment"
    }
   },
   "source": [
    "Delete a cell by selecting it and:\n",
    " - click the scissors button on the toolbar\n",
    " - `Edit → Delete cells` or `ESC-X`"
   ]
  },
  {
   "cell_type": "markdown",
   "metadata": {
    "slideshow": {
     "slide_type": "fragment"
    }
   },
   "source": [
    "Undelete the last deleted cell:\n",
    "- `Edit → Undo Delete cells` or `ESC-Z`"
   ]
  },
  {
   "cell_type": "markdown",
   "metadata": {
    "slideshow": {
     "slide_type": "slide"
    }
   },
   "source": [
    "### Managing Cells - Reorder\n",
    "Reorder cells by:\n",
    "- moving them up and down the notebook using the up and down arrows on the toolbar\n",
    "- `Edit → Move Cell Up` or `Edit → Move Cell Down` \n",
    "- cutting and pasting them:\n",
    " - `Edit → Cut` or `Edit → Paste Cells Above` or `Edit → Paste Cells Below`\n",
    " - on the toolbar, `Cut selected cells` then `Paste selected cells`\n",
    "\n",
    "You can also copy selected cells from the toolbar, `Edit → Copy Cells` or `ESC-C`."
   ]
  },
  {
   "cell_type": "markdown",
   "metadata": {
    "slideshow": {
     "slide_type": "fragment"
    }
   },
   "source": [
    "### Managing Cells - Merging and Splitting\n",
    "\n",
    "Splitting overlong cells: `Edit → Split Cell`\n",
    "\n",
    "Merging adjacent cells: `Edit → Merge Cell Above` or  `Edit → Merge Cell Below`."
   ]
  },
  {
   "cell_type": "markdown",
   "metadata": {
    "slideshow": {
     "slide_type": "slide"
    }
   },
   "source": [
    "### Cell outputs\n",
    "\n",
    "If the last line of code produces an output, the output will be embedded in the notebook below the code cell:"
   ]
  },
  {
   "cell_type": "code",
   "execution_count": 2,
   "metadata": {
    "jupyter": {
     "outputs_hidden": false
    },
    "slideshow": {
     "slide_type": "fragment"
    }
   },
   "outputs": [
    {
     "data": {
      "text/plain": [
       "3"
      ]
     },
     "execution_count": 2,
     "metadata": {},
     "output_type": "execute_result"
    }
   ],
   "source": [
    "a = 1\n",
    "b = 2\n",
    "\n",
    "a + b"
   ]
  },
  {
   "cell_type": "markdown",
   "metadata": {
    "slideshow": {
     "slide_type": "slide"
    }
   },
   "source": [
    "### Running a Cell Multiple Times\n",
    "\n",
    "Each time the cell us run, the state of the underlying python process is updated, even if the visual display of other cells in the notebook is not."
   ]
  },
  {
   "cell_type": "code",
   "execution_count": 5,
   "metadata": {
    "jupyter": {
     "outputs_hidden": false
    },
    "slideshow": {
     "slide_type": "fragment"
    }
   },
   "outputs": [
    {
     "name": "stdout",
     "output_type": "stream",
     "text": [
      "1\n"
     ]
    }
   ],
   "source": [
    "print(a)"
   ]
  },
  {
   "cell_type": "code",
   "execution_count": 3,
   "metadata": {
    "jupyter": {
     "outputs_hidden": false
    },
    "slideshow": {
     "slide_type": "fragment"
    }
   },
   "outputs": [
    {
     "data": {
      "text/plain": [
       "2"
      ]
     },
     "execution_count": 3,
     "metadata": {},
     "output_type": "execute_result"
    }
   ],
   "source": [
    "# Run this cell multiple times\n",
    "a = a + 1\n",
    "a"
   ]
  },
  {
   "cell_type": "markdown",
   "metadata": {
    "slideshow": {
     "slide_type": "slide"
    }
   },
   "source": [
    "### Working with Code\n",
    "\n",
    "We can import packages as you might expect:"
   ]
  },
  {
   "cell_type": "code",
   "execution_count": 14,
   "metadata": {
    "jupyter": {
     "outputs_hidden": false
    },
    "slideshow": {
     "slide_type": "fragment"
    }
   },
   "outputs": [
    {
     "data": {
      "text/plain": [
       "3.141592653589793"
      ]
     },
     "execution_count": 14,
     "metadata": {},
     "output_type": "execute_result"
    }
   ],
   "source": [
    "import numpy as np\n",
    "\n",
    "np.pi"
   ]
  },
  {
   "cell_type": "markdown",
   "metadata": {
    "slideshow": {
     "slide_type": "slide"
    }
   },
   "source": [
    "### Working with Code\n",
    "\n",
    "Code cells also act as a __commandline prompt__ - prefix with a `!`"
   ]
  },
  {
   "cell_type": "code",
   "execution_count": 7,
   "metadata": {
    "jupyter": {
     "outputs_hidden": false
    },
    "slideshow": {
     "slide_type": "fragment"
    }
   },
   "outputs": [
    {
     "name": "stdout",
     "output_type": "stream",
     "text": [
      "overview.ipynb\tresearch.ipynb\tslides.ipynb\r\n"
     ]
    }
   ],
   "source": [
    "!ls *.ipynb # Linux / Mac;\n",
    "#for windows: ! dir *.ipynb"
   ]
  },
  {
   "cell_type": "markdown",
   "metadata": {
    "slideshow": {
     "slide_type": "fragment"
    }
   },
   "source": [
    "### Working with Code\n",
    "\n",
    "__Line numbering__ in code cells can be toggled with ESC-L."
   ]
  },
  {
   "cell_type": "code",
   "execution_count": 8,
   "metadata": {
    "slideshow": {
     "slide_type": "fragment"
    }
   },
   "outputs": [],
   "source": [
    "a = 1\n",
    "b = 2"
   ]
  },
  {
   "cell_type": "markdown",
   "metadata": {
    "slideshow": {
     "slide_type": "fragment"
    }
   },
   "source": [
    "### IPython Cell Magics\n",
    "\n",
    "\n",
    "- `%matplotlib inline`: enable inline display of matplotlib generated graphics\n",
    "- `%whos`: display a list of variables and their values as set in the kernel\n",
    "- `%env`: display a list of environment variables and their current values in the host environment."
   ]
  },
  {
   "cell_type": "code",
   "execution_count": 10,
   "metadata": {
    "slideshow": {
     "slide_type": "fragment"
    }
   },
   "outputs": [
    {
     "name": "stdout",
     "output_type": "stream",
     "text": [
      "Variable   Type    Data/Info\n",
      "----------------------------\n",
      "a          int     1\n",
      "b          int     2\n"
     ]
    }
   ],
   "source": [
    "%whos"
   ]
  },
  {
   "cell_type": "code",
   "execution_count": 11,
   "metadata": {
    "slideshow": {
     "slide_type": "fragment"
    }
   },
   "outputs": [
    {
     "data": {
      "text/plain": [
       "{'CLUTTER_IM_MODULE': 'xim',\n",
       " 'CONDA_SHLVL': '1',\n",
       " 'NVM_DIR': '/home/versae/.nvm',\n",
       " 'LS_COLORS': 'rs=0:di=01;34:ln=01;36:mh=00:pi=40;33:so=01;35:do=01;35:bd=40;33;01:cd=40;33;01:or=40;31;01:mi=00:su=37;41:sg=30;43:ca=30;41:tw=30;42:ow=34;42:st=37;44:ex=01;32:*.tar=01;31:*.tgz=01;31:*.arc=01;31:*.arj=01;31:*.taz=01;31:*.lha=01;31:*.lz4=01;31:*.lzh=01;31:*.lzma=01;31:*.tlz=01;31:*.txz=01;31:*.tzo=01;31:*.t7z=01;31:*.zip=01;31:*.z=01;31:*.Z=01;31:*.dz=01;31:*.gz=01;31:*.lrz=01;31:*.lz=01;31:*.lzo=01;31:*.xz=01;31:*.zst=01;31:*.tzst=01;31:*.bz2=01;31:*.bz=01;31:*.tbz=01;31:*.tbz2=01;31:*.tz=01;31:*.deb=01;31:*.rpm=01;31:*.jar=01;31:*.war=01;31:*.ear=01;31:*.sar=01;31:*.rar=01;31:*.alz=01;31:*.ace=01;31:*.zoo=01;31:*.cpio=01;31:*.7z=01;31:*.rz=01;31:*.cab=01;31:*.wim=01;31:*.swm=01;31:*.dwm=01;31:*.esd=01;31:*.jpg=01;35:*.jpeg=01;35:*.mjpg=01;35:*.mjpeg=01;35:*.gif=01;35:*.bmp=01;35:*.pbm=01;35:*.pgm=01;35:*.ppm=01;35:*.tga=01;35:*.xbm=01;35:*.xpm=01;35:*.tif=01;35:*.tiff=01;35:*.png=01;35:*.svg=01;35:*.svgz=01;35:*.mng=01;35:*.pcx=01;35:*.mov=01;35:*.mpg=01;35:*.mpeg=01;35:*.m2v=01;35:*.mkv=01;35:*.webm=01;35:*.ogm=01;35:*.mp4=01;35:*.m4v=01;35:*.mp4v=01;35:*.vob=01;35:*.qt=01;35:*.nuv=01;35:*.wmv=01;35:*.asf=01;35:*.rm=01;35:*.rmvb=01;35:*.flc=01;35:*.avi=01;35:*.fli=01;35:*.flv=01;35:*.gl=01;35:*.dl=01;35:*.xcf=01;35:*.xwd=01;35:*.yuv=01;35:*.cgm=01;35:*.emf=01;35:*.ogv=01;35:*.ogx=01;35:*.aac=00;36:*.au=00;36:*.flac=00;36:*.m4a=00;36:*.mid=00;36:*.midi=00;36:*.mka=00;36:*.mp3=00;36:*.mpc=00;36:*.ogg=00;36:*.ra=00;36:*.wav=00;36:*.oga=00;36:*.opus=00;36:*.spx=00;36:*.xspf=00;36:',\n",
       " 'CONDA_EXE': '/home/versae/anaconda3/bin/conda',\n",
       " 'LC_MEASUREMENT': 'en_GB.UTF-8',\n",
       " 'LESSCLOSE': '/usr/bin/lesspipe %s %s',\n",
       " 'LC_PAPER': 'en_GB.UTF-8',\n",
       " 'LC_MONETARY': 'en_GB.UTF-8',\n",
       " 'XDG_MENU_PREFIX': 'gnome-',\n",
       " 'LANG': 'en_US.UTF-8',\n",
       " 'DISPLAY': ':0',\n",
       " 'OLDPWD': '/home/versae/projects',\n",
       " 'GNOME_SHELL_SESSION_MODE': 'ubuntu',\n",
       " 'COLORTERM': 'truecolor',\n",
       " 'NVM_CD_FLAGS': '',\n",
       " 'DESKTOP_AUTOSTART_ID': '1049247f831d833ed1157462799472311200000035500018',\n",
       " 'USERNAME': 'versae',\n",
       " 'PYENV_VIRTUALENV_INIT': '1',\n",
       " 'CONDA_PREFIX': '/home/versae/anaconda3',\n",
       " 'XDG_VTNR': '2',\n",
       " 'GIO_LAUNCHED_DESKTOP_FILE_PID': '3927',\n",
       " 'SSH_AUTH_SOCK': '/run/user/1001/keyring/ssh',\n",
       " 'MANDATORY_PATH': '/usr/share/gconf/ubuntu.mandatory.path',\n",
       " 'S_COLORS': 'auto',\n",
       " '_CE_M': '',\n",
       " 'LC_NAME': 'en_GB.UTF-8',\n",
       " 'XDG_SESSION_ID': '2',\n",
       " 'USER': 'versae',\n",
       " 'DESKTOP_SESSION': 'ubuntu',\n",
       " 'QT4_IM_MODULE': 'xim',\n",
       " 'TEXTDOMAINDIR': '/usr/share/locale/',\n",
       " 'DEFAULTS_PATH': '/usr/share/gconf/ubuntu.default.path',\n",
       " 'PWD': '/home/versae',\n",
       " 'HOME': '/home/versae',\n",
       " 'CONDA_PYTHON_EXE': '/home/versae/anaconda3/bin/python',\n",
       " 'TEXTDOMAIN': 'im-config',\n",
       " 'GUAKE_TAB_UUID': 'ce6d8572-6756-485a-9a1e-4d3b3b5d1994',\n",
       " 'SSH_AGENT_PID': '3628',\n",
       " 'QT_ACCESSIBILITY': '1',\n",
       " 'XDG_SESSION_TYPE': 'x11',\n",
       " 'XDG_DATA_DIRS': '/usr/share/ubuntu:/usr/local/share/:/usr/share/:/var/lib/snapd/desktop',\n",
       " '_CE_CONDA': '',\n",
       " 'XDG_SESSION_DESKTOP': 'ubuntu',\n",
       " 'LC_ADDRESS': 'en_GB.UTF-8',\n",
       " 'LC_NUMERIC': 'en_GB.UTF-8',\n",
       " 'CONDA_PROMPT_MODIFIER': '(base) ',\n",
       " 'GTK_MODULES': 'gail:atk-bridge',\n",
       " 'PAPERSIZE': 'a4',\n",
       " 'WINDOWPATH': '2',\n",
       " 'SHELL': '/bin/bash',\n",
       " 'VTE_VERSION': '5202',\n",
       " 'TERM': 'xterm-color',\n",
       " 'QT_IM_MODULE': 'ibus',\n",
       " 'XMODIFIERS': '@im=ibus',\n",
       " 'IM_CONFIG_PHASE': '2',\n",
       " 'NVM_BIN': '/home/versae/.nvm/versions/node/v10.15.3/bin',\n",
       " 'XDG_CURRENT_DESKTOP': 'ubuntu:GNOME',\n",
       " 'GPG_AGENT_INFO': '/run/user/1001/gnupg/S.gpg-agent:0:1',\n",
       " 'GIO_LAUNCHED_DESKTOP_FILE': '/home/versae/.config/autostart/guake.desktop',\n",
       " 'CONDA_ROOT': '/home/versae/anaconda3',\n",
       " 'XDG_SEAT': 'seat0',\n",
       " 'SHLVL': '2',\n",
       " 'PYENV_SHELL': 'bash',\n",
       " 'LANGUAGE': 'en_US:en',\n",
       " 'LC_TELEPHONE': 'en_GB.UTF-8',\n",
       " 'GDMSESSION': 'ubuntu',\n",
       " 'GNOME_DESKTOP_SESSION_ID': 'this-is-deprecated',\n",
       " 'LOGNAME': 'versae',\n",
       " 'DBUS_SESSION_BUS_ADDRESS': 'unix:path=/run/user/1001/bus',\n",
       " 'XDG_RUNTIME_DIR': '/run/user/1001',\n",
       " 'XAUTHORITY': '/run/user/1001/gdm/Xauthority',\n",
       " 'XDG_CONFIG_DIRS': '/etc/xdg/xdg-ubuntu:/etc/xdg',\n",
       " 'PATH': '/home/versae/anaconda3/bin:/home/versae/anaconda3/condabin:/home/versae/.nvm/versions/node/v10.15.3/bin:/home/versae/.pyenv/plugins/pyenv-virtualenv/shims:/home/versae/.pyenv/shims:/home/versae/.pyenv/bin:/home/versae/.local/bin:/home/versae/bin:/usr/local/sbin:/usr/local/bin:/usr/sbin:/usr/bin:/sbin:/bin:/usr/games:/usr/local/games:/snap/bin',\n",
       " 'LC_IDENTIFICATION': 'en_GB.UTF-8',\n",
       " 'CONDA_DEFAULT_ENV': 'base',\n",
       " 'SESSION_MANAGER': 'local/drift:@/tmp/.ICE-unix/3550,unix/drift:/tmp/.ICE-unix/3550',\n",
       " 'LESSOPEN': '| /usr/bin/lesspipe %s',\n",
       " 'GTK_IM_MODULE': 'ibus',\n",
       " 'LC_TIME': 'en_GB.UTF-8',\n",
       " '_': '/home/versae/anaconda3/bin/jupyter-notebook',\n",
       " 'KERNEL_LAUNCH_TIMEOUT': '40',\n",
       " 'JPY_PARENT_PID': '2425',\n",
       " 'CLICOLOR': '1',\n",
       " 'PAGER': 'cat',\n",
       " 'GIT_PAGER': 'cat',\n",
       " 'MPLBACKEND': 'module://ipykernel.pylab.backend_inline'}"
      ]
     },
     "execution_count": 11,
     "metadata": {},
     "output_type": "execute_result"
    }
   ],
   "source": [
    "%env"
   ]
  },
  {
   "cell_type": "markdown",
   "metadata": {
    "slideshow": {
     "slide_type": "slide"
    }
   },
   "source": [
    "## Rich Outputs\n",
    "\n",
    "Code cell outputs can render tables and charts:"
   ]
  },
  {
   "cell_type": "code",
   "execution_count": 12,
   "metadata": {
    "jupyter": {
     "outputs_hidden": false
    },
    "slideshow": {
     "slide_type": "fragment"
    }
   },
   "outputs": [
    {
     "data": {
      "text/html": [
       "<div>\n",
       "<style scoped>\n",
       "    .dataframe tbody tr th:only-of-type {\n",
       "        vertical-align: middle;\n",
       "    }\n",
       "\n",
       "    .dataframe tbody tr th {\n",
       "        vertical-align: top;\n",
       "    }\n",
       "\n",
       "    .dataframe thead th {\n",
       "        text-align: right;\n",
       "    }\n",
       "</style>\n",
       "<table border=\"1\" class=\"dataframe\">\n",
       "  <thead>\n",
       "    <tr style=\"text-align: right;\">\n",
       "      <th></th>\n",
       "      <th>col1</th>\n",
       "      <th>col2</th>\n",
       "    </tr>\n",
       "  </thead>\n",
       "  <tbody>\n",
       "    <tr>\n",
       "      <td>0</td>\n",
       "      <td>x</td>\n",
       "      <td>1</td>\n",
       "    </tr>\n",
       "    <tr>\n",
       "      <td>1</td>\n",
       "      <td>y</td>\n",
       "      <td>2</td>\n",
       "    </tr>\n",
       "  </tbody>\n",
       "</table>\n",
       "</div>"
      ],
      "text/plain": [
       "  col1  col2\n",
       "0    x     1\n",
       "1    y     2"
      ]
     },
     "execution_count": 12,
     "metadata": {},
     "output_type": "execute_result"
    }
   ],
   "source": [
    "import pandas as pd\n",
    "\n",
    "pd.DataFrame({'col1':['x','y'],'col2':[1,2]})"
   ]
  },
  {
   "cell_type": "code",
   "execution_count": 17,
   "metadata": {
    "jupyter": {
     "outputs_hidden": false
    },
    "slideshow": {
     "slide_type": "fragment"
    }
   },
   "outputs": [
    {
     "data": {
      "text/plain": [
       "[<matplotlib.lines.Line2D at 0x7f831d612050>]"
      ]
     },
     "execution_count": 17,
     "metadata": {},
     "output_type": "execute_result"
    },
    {
     "data": {
      "image/png": "[encoded data removed]",
      "text/plain": [
       "<Figure size 432x288 with 1 Axes>"
      ]
     },
     "metadata": {
      "needs_background": "light"
     },
     "output_type": "display_data"
    }
   ],
   "source": [
    "%matplotlib inline\n",
    "import matplotlib.pyplot as plt\n",
    "\n",
    "# Create 1000 evenly-spaced values from 0 to 2 pi\n",
    "x = np.linspace(0, 2 * np.pi, 1000)  \n",
    "#Plot a sine wave over those values\n",
    "y = np.sin(x)\n",
    "\n",
    "plt.plot(x, y)  # Add a semi-colon to prevent the display of object details"
   ]
  },
  {
   "cell_type": "markdown",
   "metadata": {
    "slideshow": {
     "slide_type": "slide"
    }
   },
   "source": [
    "### Interactive Widgets\n",
    "\n",
    "If you create a function that accepts one or more parameters, you may be able to use it as the basis of an automatically generated application.\n",
    "\n",
    "For example, suppose we have a function that will plot a sine wave over the range 0..2 pi for a specified frequency, passed into the function as a parameter:"
   ]
  },
  {
   "cell_type": "code",
   "execution_count": 18,
   "metadata": {
    "jupyter": {
     "outputs_hidden": false
    },
    "slideshow": {
     "slide_type": "fragment"
    }
   },
   "outputs": [
    {
     "data": {
      "image/png": "[encoded data removed]",
      "text/plain": [
       "<Figure size 432x288 with 1 Axes>"
      ]
     },
     "metadata": {
      "needs_background": "light"
     },
     "output_type": "display_data"
    }
   ],
   "source": [
    "def sinplot(f=1):\n",
    "    # Define a range of x values\n",
    "    x = np.linspace(0, 2*np.pi, 1000)  \n",
    "    # Plot a sine wave with the specified frequency over that range\n",
    "    y = np.sin(f*x)\n",
    "    # Plot the chart\n",
    "    plt.plot(x, y)\n",
    "    \n",
    "sinplot(f=3)"
   ]
  },
  {
   "cell_type": "markdown",
   "metadata": {
    "slideshow": {
     "slide_type": "slide"
    }
   },
   "source": [
    "### Using ipywidgets `interact()`\n",
    "\n",
    "Pass the name of your function, and the default values of the parameters, to the *ipywidgets* `interact()` function to automatically create interactive widgets to control the parameter values."
   ]
  },
  {
   "cell_type": "code",
   "execution_count": null,
   "metadata": {
    "slideshow": {
     "slide_type": "-"
    }
   },
   "outputs": [],
   "source": [
    "from ipywidgets import interact"
   ]
  },
  {
   "cell_type": "markdown",
   "metadata": {
    "slideshow": {
     "slide_type": "slide"
    }
   },
   "source": [
    "### Using ipywidgets `interact()`"
   ]
  },
  {
   "cell_type": "code",
   "execution_count": 21,
   "metadata": {
    "jupyter": {
     "outputs_hidden": false
    },
    "slideshow": {
     "slide_type": "-"
    }
   },
   "outputs": [
    {
     "data": {
      "application/vnd.jupyter.widget-view+json": {
       "model_id": "b32a0972f5414db08719ca412663199c",
       "version_major": 2,
       "version_minor": 0
      },
      "text/plain": [
       "interactive(children=(IntSlider(value=5, description='f', max=15, min=-5), Output()), _dom_classes=('widget-in…"
      ]
     },
     "metadata": {},
     "output_type": "display_data"
    }
   ],
   "source": [
    "interact(sinplot, f=5);"
   ]
  },
  {
   "cell_type": "markdown",
   "metadata": {
    "slideshow": {
     "slide_type": "slide"
    }
   },
   "source": [
    "### Using ipywidgets `interact()`\n",
    "\n",
    "You can also specify the range of values Applied to an `interact()` slider:\n",
    "\n",
    "```\n",
    "interact(sinplot, f=[0,20])\n",
    "```\n",
    "\n",
    "Or the range of values and the step size:\n",
    "   \n",
    "```\n",
    "interact(sinplot, f=[0,20,5])\n",
    "```"
   ]
  },
  {
   "cell_type": "markdown",
   "metadata": {
    "slideshow": {
     "slide_type": "slide"
    }
   },
   "source": [
    "## Checking Reproducibility\n",
    "\n",
    "Clear the output of a selected cell: `Cell → Current Output → Clear`\n",
    "\n",
    "Clear the output of all cells in the notebook:  `Cell → All Output → Clear`\n",
    "\n",
    "*Note the the state of the underlying kernel __will not__ be affected - only the rendered display in the notebook.*"
   ]
  },
  {
   "cell_type": "markdown",
   "metadata": {
    "slideshow": {
     "slide_type": "fragment"
    }
   },
   "source": [
    "Run multiple cells:\n",
    "\n",
    "- `Cell → Run All Above`\n",
    "- `Cell → Run All Below`\n",
    "- `Cell → Run All`\n",
    "\n",
    "Run cells from scratch (i.e. from a fresh kernel), `Kernel → Restart and Clear Output` and then run the cells you want.\n",
    "\n",
    "To run all the cells in the notebook from scratch: `Kernel → Restart and Run All`"
   ]
  },
  {
   "cell_type": "markdown",
   "metadata": {
    "slideshow": {
     "slide_type": "slide"
    }
   },
   "source": [
    "## Troubleshooting\n",
    "\n",
    "Tips and tricks for when it goes wrong..."
   ]
  },
  {
   "cell_type": "markdown",
   "metadata": {
    "slideshow": {
     "slide_type": "-"
    }
   },
   "source": [
    "### Getting Help\n",
    "\n",
    "Find help files for the notebooks from the *Help* menu.\n",
    "\n",
    "Display keyboard shortcuts using `Help → Keyboard Shortcuts` or `ESC-H`."
   ]
  },
  {
   "cell_type": "markdown",
   "metadata": {
    "slideshow": {
     "slide_type": "fragment"
    }
   },
   "source": [
    "Code cells support __autocomplete__: start typing and then `TAB` to see what options are available..."
   ]
  },
  {
   "cell_type": "markdown",
   "metadata": {
    "slideshow": {
     "slide_type": "fragment"
    }
   },
   "source": [
    "Access documentation for a function - add a `?` and run the cell:"
   ]
  },
  {
   "cell_type": "code",
   "execution_count": null,
   "metadata": {
    "collapsed": true,
    "jupyter": {
     "outputs_hidden": true
    },
    "slideshow": {
     "slide_type": "-"
    }
   },
   "outputs": [],
   "source": [
    "pd.DataFrame?"
   ]
  },
  {
   "cell_type": "markdown",
   "metadata": {
    "slideshow": {
     "slide_type": "fragment"
    }
   },
   "source": [
    "### Saving, Checkpointing and Reverting the Notebook\n",
    "\n",
    "The notebook wil autosave every few minutes.\n",
    "\n",
    "You can also create a checkpoint using the floppy/save icon on the toolbar or `File → Save and Checkpoint`.\n",
    "\n",
    "You can revert the notebook to a saved checkpoint using `File → Revert to Saved Checkpoint`."
   ]
  },
  {
   "cell_type": "markdown",
   "metadata": {
    "slideshow": {
     "slide_type": "fragment"
    }
   },
   "source": [
    "### Permanently Running Cells\n",
    "\n",
    "Code cells that are running (or queued for running) display an asterisk in the cell `In []` indicator.\n",
    "\n",
    "To stop execution of a running cell (and prevent queued cells from executing):\n",
    "- Press the stop button on the toolbar\n",
    "- `Kernel → Interrupt`\n",
    "\n",
    "If the notebook is still hanging, you may need to restart the kernel:  `Kernel → Restart`"
   ]
  },
  {
   "cell_type": "markdown",
   "metadata": {
    "slideshow": {
     "slide_type": "slide"
    }
   },
   "source": [
    "### Slideshow\n",
    "\n",
    "This slide deck was produced from a notebook styled as a slideeck:\n",
    "\n",
    "- `View → Cell Toolbar → Slideshow`, and then either: \n",
    "  - `$ jupyter nbconvert slideTest.ipynb --to slides --post serve`, or\n",
    "  - `$ jupyter nbconvert slideTest.ipynb --to slides && python -m SimpleHTTPServer 8000`.\n",
    "  - Then go to the URL `localhost:8000` in your browser\n",
    "\n",
    "Alternatively, you can use RISE and click on the <i class=\"fa-bar-chart fa\"></i> button."
   ]
  },
  {
   "cell_type": "markdown",
   "metadata": {
    "slideshow": {
     "slide_type": "slide"
    }
   },
   "source": [
    "## Exporting\n",
    "\n",
    "The option `File → Download as` will open a menu with options to download the Notebook in different formats.\n",
    "\n",
    "For PDF and HTML, additional tools must be installed at the system level: [nbconvert, pandoc and TeX](https://nbconvert.readthedocs.io/en/latest/install.html#installing-pandoc)."
   ]
  },
  {
   "cell_type": "markdown",
   "metadata": {
    "slideshow": {
     "slide_type": "slide"
    }
   },
   "source": [
    "### Voilà!\n",
    "\n",
    "[Voilà](https://github.com/voila-dashboards/voila) turns Jupyter notebooks into standalone web applications."
   ]
  },
  {
   "cell_type": "code",
   "execution_count": 22,
   "metadata": {
    "slideshow": {
     "slide_type": "-"
    }
   },
   "outputs": [
    {
     "data": {
      "application/vnd.jupyter.widget-view+json": {
       "model_id": "5793dc126bcf4002a2643902429cfc65",
       "version_major": 2,
       "version_minor": 0
      },
      "text/plain": [
       "HBox(children=(VBox(children=(IntSlider(value=0), IntSlider(value=0))), Output()))"
      ]
     },
     "metadata": {},
     "output_type": "display_data"
    }
   ],
   "source": [
    "from ipywidgets import HBox, VBox, IntSlider, interactive_output\n",
    "from IPython.display import display\n",
    "\n",
    "a = IntSlider()\n",
    "b = IntSlider()\n",
    "\n",
    "def f(a, b):\n",
    "    print(\"{} * {} = {}\".format(a, b, a * b))\n",
    "\n",
    "out = interactive_output(f, { \"a\": a, \"b\": b })\n",
    "\n",
    "display(HBox([VBox([a, b]), out]))"
   ]
  }
 ],
 "metadata": {
  "celltoolbar": "Slideshow",
  "kernelspec": {
   "display_name": "Python 3",
   "language": "python",
   "name": "python3"
  },
  "language_info": {
   "codemirror_mode": {
    "name": "ipython",
    "version": 3
   },
   "file_extension": ".py",
   "mimetype": "text/x-python",
   "name": "python",
   "nbconvert_exporter": "python",
   "pygments_lexer": "ipython3",
   "version": "3.7.4"
  },
  "widgets": {
   "state": {},
   "version": "1.1.2"
  }
 },
 "nbformat": 4,
 "nbformat_minor": 4
}
