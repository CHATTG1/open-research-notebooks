{
 "cells": [
  {
   "cell_type": "markdown",
   "metadata": {
    "slideshow": {
     "slide_type": "slide"
    }
   },
   "source": [
    "<div style=\"display: flex;\">\n",
    "<!-- ; background:url('https://desirschool.sciencesconf.org/data/header/archives_1.jpg')  repeat center center; color: #fff; -->    \n",
    "  <div style=\"flex: 33%;\">\n",
    "      <img src=\"https://desirschool.sciencesconf.org/data/header/DESIR_logo_1.jpg\" width=500>\n",
    "  </div>\n",
    "  <div style=\"flex: 66%; margin: 1em; text-align: center;\">\n",
    "    <h1> DESIR Winter School: Shaping new approaches to data management in arts and humanities </h1>\n",
    "    <h2> Open Research Notebooks </h2>\n",
    "    <h3> 10-13 Dec 2019 Lisbon (Portugal) </h3>\n",
    "  </div>\n",
    "</div>"
   ]
  },
  {
   "cell_type": "markdown",
   "metadata": {
    "slideshow": {
     "slide_type": "slide"
    }
   },
   "source": [
    "### About me\n",
    "<br>\n",
    "<div style=\"display: flex;\">\n",
    "  <div style=\"flex: 50%;\">\n",
    "      <img src=\"https://www.dropbox.com/s/8u2cy57qpz4yx1y/profile_pic.jpg?raw=1\" width=200/>\n",
    "  </div>\n",
    "  <div style=\"flex: 50%;margin: 1em;\">\n",
    "      <b>Javier de la Rosa</b>, <a href=\"mailto:versae@gmail.com\"><i>versae@gmail.com</i></a>, <a href=\"https://twitter.com/versae\"><i>@versae</i></a>\n",
    "      <br />\n",
    "      <br />\n",
    "      <div style=\"padding-left: 1em;\">\n",
    "      Postdoctoral Researcher in NLP at UNED (ERC POSTDATA Project), Spain\n",
    "      <br />\n",
    "      PhD in Hispanic Studies (Digital Humanities), University of Western Ontario, Canada\n",
    "      <br />\n",
    "      Master in Artificial Intelligence, Universidad de Sevilla, Spain\n",
    "      <br />\n",
    "      <br />\n",
    "      Ex-Research Software Engineer at Stanford University, California\n",
    "      <br />\n",
    "      Ex-Technical Lead at the CulturePlex Lab, University of Western Ontario, Canada\n",
    "      </div>\n",
    "  </div>\n",
    "</div>"
   ]
  },
  {
   "cell_type": "markdown",
   "metadata": {
    "slideshow": {
     "slide_type": "slide"
    }
   },
   "source": [
    "### Working with Jupyter\n",
    "\n",
    "Let's now see how to work with Jupyter Notebooks.\n",
    "\n",
    "This notebook is inspired by the Software Carpentry and Data Carpentry's [\"Reproducible Research using Jupyter Notebooks\"](https://reproducible-science-curriculum.github.io/workshop-RR-Jupyter/) and Quinn Dombrowski, Tassie Gniady, and David Kloster, \"Introduction to Jupyter Notebooks,\" The Programming Historian 8 (2019), https://programminghistorian.org/en/lessons/jupyter-notebooks."
   ]
  },
  {
   "cell_type": "markdown",
   "metadata": {
    "slideshow": {
     "slide_type": "slide"
    }
   },
   "source": [
    "### Installing Jupyter\n",
    "\n",
    "- Locally:\n",
    "  If Python 3 is already installed (remember, [Python 2 is reaching end of life Jan 1st, 2020](https://pythonclock.org/)):\n",
    "  ```bash\n",
    "  $ pip3 install jupyter\n",
    "  ```\n",
    "  \n",
    "  If not, Anaconda is a good option too: https://www.anaconda.com/distribution/#download-section"
   ]
  },
  {
   "cell_type": "markdown",
   "metadata": {
    "slideshow": {
     "slide_type": "slide"
    }
   },
   "source": [
    "### Installing Jupyter\n",
    "\n",
    "- Cloud:\n",
    "  There are links to use Binder for all notebooks in the [GitHub repository of this session](https://github.com/versae/open-research-notebooks).\n",
    "\n",
    "| Nbviewer | Jupyter Notebook | Jupyter Lab | Google Colab |\n",
    "| ---      | --               | ---         | ---          |\n",
    "| [slides.ipynb](https://nbviewer.jupyter.org/github/versae/open-research-notebooks/blob/master/slides.ipynb) | [![Binder](https://mybinder.org/badge_logo.svg)](https://mybinder.org/v2/gh/versae/open-research-notebooks/master?filepath=slides.ipynb) | [![Binder](https://mybinder.org/badge_logo.svg)](https://mybinder.org/v2/gh/versae/open-research-notebooks/master?urlpath=lab/tree/slides.ipynb) | [![Colab](https://colab.research.google.com/assets/colab-badge.svg)](https://colab.research.google.com/github/versae/open-research-notebooks/blob/master/slides.ipynb) |\n",
    "| [overview.ipynb](https://nbviewer.jupyter.org/github/versae/open-research-notebooks/blob/master/overview.ipynb) | [![Binder](https://mybinder.org/badge_logo.svg)](https://mybinder.org/v2/gh/versae/open-research-notebooks/master?filepath=overview.ipynb) | [![Binder](https://mybinder.org/badge_logo.svg)](https://mybinder.org/v2/gh/versae/open-research-notebooks/master?urlpath=lab/tree/overview.ipynb) | [![Colab](https://colab.research.google.com/assets/colab-badge.svg)](https://colab.research.google.com/github/versae/open-research-notebooks/blob/master/overview.ipynb) |\n",
    "| [research.ipynb](https://nbviewer.jupyter.org/github/versae/open-research-notebooks/blob/master/research.ipynb) | [![Binder](https://mybinder.org/badge_logo.svg)](https://mybinder.org/v2/gh/versae/open-research-notebooks/master?filepath=research.ipynb) | [![Binder](https://mybinder.org/badge_logo.svg)](https://mybinder.org/v2/gh/versae/open-research-notebooks/master?urlpath=lab/tree/research.ipynb) | [![Colab](https://colab.research.google.com/assets/colab-badge.svg)](https://colab.research.google.com/github/versae/open-research-notebooks/blob/master/research.ipynb) |\n",
    "\n",
    "The repo can also be loaded in [Binder](https://mybinder.org/v2/gh/versae/open-research-notebooks/master) or imported it into <a href=\"https://notebooks.azure.com/import/gh/versae/open-research-notebooks\" rel=\"nofollow\">Azure Notebooks</a>."
   ]
  },
  {
   "cell_type": "markdown",
   "metadata": {
    "slideshow": {
     "slide_type": "slide"
    }
   },
   "source": [
    "### Installing dependencies"
   ]
  },
  {
   "cell_type": "code",
   "execution_count": null,
   "metadata": {
    "slideshow": {
     "slide_type": "-"
    }
   },
   "outputs": [],
   "source": [
    "import sys\n",
    "requirements = \"https://raw.githubusercontent.com/versae/open-research-notebooks/master/requirements.txt\"\n",
    "!{sys.executable} -m pip install -r {requirements}"
   ]
  },
  {
   "cell_type": "markdown",
   "metadata": {
    "slideshow": {
     "slide_type": "slide"
    }
   },
   "source": [
    "### Launching Jupyter Notebook\n",
    "\n",
    "Either type in a terminal:\n",
    "```bash\n",
    "$ jupyter notebook\n",
    "```"
   ]
  },
  {
   "cell_type": "markdown",
   "metadata": {
    "slideshow": {
     "slide_type": "slide"
    }
   },
   "source": [
    "### Launching Jupyter Notebook\n",
    "\n",
    "Or click on the \"Launch\" button of *Jupyter Notebook* in Anaconda.\n",
    "\n",
    "<img src=\"https://programminghistorian.org/images/jupyter-notebooks/anaconda-navigator.png\" width=800/>\n",
    "\n",
    "<small>Quinn Dombrowski, Tassie Gniady, and David Kloster, \"Introduction to Jupyter Notebooks,\" The Programming Historian 8 (2019), https://programminghistorian.org/en/lessons/jupyter-notebooks.</small>"
   ]
  },
  {
   "cell_type": "markdown",
   "metadata": {
    "slideshow": {
     "slide_type": "slide"
    }
   },
   "source": [
    "### Code Cells\n",
    "\n",
    "A new notebook contains a single, executable code cell.\n",
    "\n",
    "A new line of code can be executed by:\n",
    "- Clicking the run button, or\n",
    "- Clicking in the cell, and press `CTRL-RETURN` or `SHIFT-RETURN`"
   ]
  },
  {
   "cell_type": "code",
   "execution_count": null,
   "metadata": {
    "jupyter": {
     "outputs_hidden": false
    },
    "slideshow": {
     "slide_type": "fragment"
    }
   },
   "outputs": [],
   "source": [
    "print('hello world')"
   ]
  },
  {
   "cell_type": "markdown",
   "metadata": {
    "slideshow": {
     "slide_type": "slide"
    }
   },
   "source": [
    "### Adding Narrative with Markdown\n",
    "\n",
    "- __Add a new cell__ to the notebook: click the `+` button on the toolbar\n",
    "\n",
    "- __Change the cell type__ using the drop down list in the toolbar or by using the `ESC-M` or `CTRL-M` keyboard shortcut.\n",
    "\n",
    "To \"open\" or __select a markdown cell for editing__, double click the cell.\n",
    "\n",
    "View the rendered markdown by running the cell:\n",
    "- Hit the play button on the toolbar, or\n",
    "- Use the `SHIFT-RETURN` keyboard shortcut."
   ]
  },
  {
   "cell_type": "markdown",
   "metadata": {
    "slideshow": {
     "slide_type": "slide"
    }
   },
   "source": [
    "# Simple Markdown\n",
    "\n",
    "Markdown cells use markdown to generate formatted text:\n",
    "\n",
    "- inline styles\n",
    "  - *emphasise text*\n",
    "  - __strongly emphasise__ text \n",
    "  \n",
    "## Sub-headings\n",
    "Markdown can also show `inline code` styles as well as code blocks:\n",
    "\n",
    "````\n",
    "def mycode():\n",
    "    ''' Here is my non-executable code '''\n",
    "    pass\n",
    "````\n",
    "\n",
    "So what does the actual markdown look like?"
   ]
  },
  {
   "cell_type": "raw",
   "metadata": {
    "slideshow": {
     "slide_type": "slide"
    }
   },
   "source": [
    "# Simple Markdown\n",
    "\n",
    "Markdown cells use markdown to generate formatted text:\n",
    "\n",
    "- inline styles\n",
    "  - *emphasise text*\n",
    "  - __strongly emphasise__ text \n",
    "  \n",
    "## Sub-headings\n",
    "Markdown can also show `inline code` styles as well as code blocks:\n",
    "\n",
    "```\n",
    "def mycode():\n",
    "    ''' Here is my non-executable code '''\n",
    "    pass\n",
    "```"
   ]
  },
  {
   "cell_type": "markdown",
   "metadata": {
    "slideshow": {
     "slide_type": "slide"
    }
   },
   "source": [
    "# Simple Markdown\n",
    "\n",
    "Markdown can include weblinks, e.g. to [DESIR Winter School](https://desirschool.sciencesconf.org/), as well as links to named elements [in the same notebook](#navlink), or [other notebooks](./slides.ipynb).\n",
    "\n",
    "Markdown can embed images:\n",
    "\n",
    "![Jupyter logo](https://jupyter.org/assets/main-logo.svg)"
   ]
  },
  {
   "cell_type": "raw",
   "metadata": {
    "slideshow": {
     "slide_type": "slide"
    }
   },
   "source": [
    "# Simple Markdown\n",
    "\n",
    "Markdown can include weblinks, e.g. to [DESIR Winter School](https://desirschool.sciencesconf.org/), as well as links to named elements [in the same notebook](#navlink), or [other notebooks](./slides.ipynb).\n",
    "\n",
    "Markdown can embed images:\n",
    "\n",
    "![Jupyter logo](https://jupyter.org/assets/main-logo.svg)"
   ]
  },
  {
   "cell_type": "markdown",
   "metadata": {
    "slideshow": {
     "slide_type": "slide"
    }
   },
   "source": [
    "### Markdown cells can include Latex Expressions\n",
    "\n",
    "There is support for expressions in LaTeX:\n",
    "\n",
    "`$e^x=\\sum_{i=0}^\\infty \\frac{1}{i!}x^i$`\n",
    "\n",
    "Rendered inline as $e^x=\\sum_{i=0}^\\infty \\frac{1}{i!}x^i$. Pretty cool!\n",
    "\n",
    "Use `$$` to render in the centre of a new line: $$e^x=\\sum_{i=0}^\\infty \\frac{1}{i!}x^i$$"
   ]
  },
  {
   "cell_type": "markdown",
   "metadata": {
    "slideshow": {
     "slide_type": "slide"
    }
   },
   "source": [
    "### Navigating and Selecting Cells\n",
    "\n",
    "To select a cell, __click on it__. The selected cell will be surrounded by a box with the left hand side highlighted.\n",
    "\n",
    "Move the selection focus to the cell above/below using the keyboard up/down arrow keys.\n",
    "\n",
    "Select multiple adjacent cells using `SHIFT-UP ARROW` or `SHIFT-DOWN ARROW`"
   ]
  },
  {
   "cell_type": "markdown",
   "metadata": {
    "slideshow": {
     "slide_type": "slide"
    }
   },
   "source": [
    "### Managing Cells - Add, Delete\n",
    "\n",
    "Add a new cell to the notebook by:\n",
    " - click the + button on the toolbar\n",
    " - `Insert → Insert Cell Above` or `ESC-A`/`CTRL-M-A`\n",
    " - `Insert → Insert Cell Below` or `ESC-B`/`CTRL-M-B`"
   ]
  },
  {
   "cell_type": "markdown",
   "metadata": {
    "slideshow": {
     "slide_type": "fragment"
    }
   },
   "source": [
    "Delete a cell by selecting it and:\n",
    " - click the scissors button on the toolbar\n",
    " - `Edit → Delete cells` or `ESC-X`/`CTRL-M-D`"
   ]
  },
  {
   "cell_type": "markdown",
   "metadata": {
    "slideshow": {
     "slide_type": "fragment"
    }
   },
   "source": [
    "Undelete the last deleted cell:\n",
    "- `Edit → Undo Delete cells` or `ESC-Z`/`CTRL-M-Z`"
   ]
  },
  {
   "cell_type": "markdown",
   "metadata": {
    "slideshow": {
     "slide_type": "slide"
    }
   },
   "source": [
    "### Managing Cells - Reorder\n",
    "Reorder cells by:\n",
    "- moving them up and down the notebook using the up and down arrows on the toolbar\n",
    "- `Edit → Move Cell Up` or `Edit → Move Cell Down` \n",
    "- cutting and pasting them:\n",
    " - `Edit → Cut` or `Edit → Paste Cells Above` or `Edit → Paste Cells Below`\n",
    " - on the toolbar, `Cut selected cells` then `Paste selected cells`\n",
    "\n",
    "You can also copy selected cells from the toolbar, `Edit → Copy Cells` or `ESC-C`/`CTRL-M-Z`."
   ]
  },
  {
   "cell_type": "markdown",
   "metadata": {
    "slideshow": {
     "slide_type": "slide"
    }
   },
   "source": [
    "### Managing Cells - Merging and Splitting\n",
    "\n",
    "Splitting overlong cells: `Edit → Split Cell`\n",
    "\n",
    "Merging adjacent cells: `Edit → Merge Cell Above` or  `Edit → Merge Cell Below`."
   ]
  },
  {
   "cell_type": "markdown",
   "metadata": {
    "slideshow": {
     "slide_type": "slide"
    }
   },
   "source": [
    "### Cell outputs\n",
    "\n",
    "If the last line of code produces an output, the output will be embedded in the notebook below the code cell:"
   ]
  },
  {
   "cell_type": "code",
   "execution_count": null,
   "metadata": {
    "jupyter": {
     "outputs_hidden": false
    },
    "slideshow": {
     "slide_type": "fragment"
    }
   },
   "outputs": [],
   "source": [
    "a = 1\n",
    "b = 2\n",
    "\n",
    "a + b"
   ]
  },
  {
   "cell_type": "markdown",
   "metadata": {
    "slideshow": {
     "slide_type": "slide"
    }
   },
   "source": [
    "### Running a Cell Multiple Times\n",
    "\n",
    "Each time the cell us run, the state of the underlying python process is updated, even if the visual display of other cells in the notebook is not."
   ]
  },
  {
   "cell_type": "code",
   "execution_count": null,
   "metadata": {
    "jupyter": {
     "outputs_hidden": false
    },
    "slideshow": {
     "slide_type": "fragment"
    }
   },
   "outputs": [],
   "source": [
    "print(a)"
   ]
  },
  {
   "cell_type": "code",
   "execution_count": null,
   "metadata": {
    "jupyter": {
     "outputs_hidden": false
    },
    "slideshow": {
     "slide_type": "fragment"
    }
   },
   "outputs": [],
   "source": [
    "# Run this cell multiple times\n",
    "a = a + 1\n",
    "a"
   ]
  },
  {
   "cell_type": "markdown",
   "metadata": {
    "slideshow": {
     "slide_type": "slide"
    }
   },
   "source": [
    "### Working with Code\n",
    "\n",
    "We can import packages as you might expect:"
   ]
  },
  {
   "cell_type": "code",
   "execution_count": null,
   "metadata": {
    "jupyter": {
     "outputs_hidden": false
    },
    "slideshow": {
     "slide_type": "fragment"
    }
   },
   "outputs": [],
   "source": [
    "import numpy as np\n",
    "\n",
    "np.pi"
   ]
  },
  {
   "cell_type": "markdown",
   "metadata": {
    "slideshow": {
     "slide_type": "slide"
    }
   },
   "source": [
    "### Working with Code\n",
    "\n",
    "Code cells also act as a __commandline prompt__ - prefix with a `!`"
   ]
  },
  {
   "cell_type": "code",
   "execution_count": null,
   "metadata": {
    "jupyter": {
     "outputs_hidden": false
    },
    "slideshow": {
     "slide_type": "fragment"
    }
   },
   "outputs": [],
   "source": [
    "!ls *.ipynb # Linux / Mac;\n",
    "#for windows: ! dir *.ipynb"
   ]
  },
  {
   "cell_type": "markdown",
   "metadata": {
    "slideshow": {
     "slide_type": "fragment"
    }
   },
   "source": [
    "### Working with Code\n",
    "\n",
    "__Line numbering__ in code cells can be toggled with ESC-L."
   ]
  },
  {
   "cell_type": "code",
   "execution_count": null,
   "metadata": {
    "slideshow": {
     "slide_type": "fragment"
    }
   },
   "outputs": [],
   "source": [
    "a = 1\n",
    "b = 2"
   ]
  },
  {
   "cell_type": "markdown",
   "metadata": {
    "slideshow": {
     "slide_type": "slide"
    }
   },
   "source": [
    "### IPython Cell Magics\n",
    "\n",
    "\n",
    "- `%matplotlib inline`: enable inline display of matplotlib generated graphics\n",
    "- `%whos`: display a list of variables and their values as set in the kernel\n",
    "- `%env`: display a list of environment variables and their current values in the host environment."
   ]
  },
  {
   "cell_type": "code",
   "execution_count": null,
   "metadata": {
    "slideshow": {
     "slide_type": "fragment"
    }
   },
   "outputs": [],
   "source": [
    "%whos"
   ]
  },
  {
   "cell_type": "code",
   "execution_count": null,
   "metadata": {
    "slideshow": {
     "slide_type": "fragment"
    }
   },
   "outputs": [],
   "source": [
    "%env"
   ]
  },
  {
   "cell_type": "markdown",
   "metadata": {
    "slideshow": {
     "slide_type": "slide"
    }
   },
   "source": [
    "## Rich Outputs\n",
    "\n",
    "Code cell outputs can render tables and charts:"
   ]
  },
  {
   "cell_type": "code",
   "execution_count": null,
   "metadata": {
    "jupyter": {
     "outputs_hidden": false
    },
    "slideshow": {
     "slide_type": "fragment"
    }
   },
   "outputs": [],
   "source": [
    "import pandas as pd\n",
    "\n",
    "pd.DataFrame({'col1':['x','y'],'col2':[1,2]})"
   ]
  },
  {
   "cell_type": "code",
   "execution_count": null,
   "metadata": {
    "jupyter": {
     "outputs_hidden": false
    },
    "slideshow": {
     "slide_type": "fragment"
    }
   },
   "outputs": [],
   "source": [
    "%matplotlib inline\n",
    "import matplotlib.pyplot as plt\n",
    "\n",
    "# Create 1000 evenly-spaced values from 0 to 2 pi\n",
    "x = np.linspace(0, 2 * np.pi, 1000)  \n",
    "#Plot a sine wave over those values\n",
    "y = np.sin(x)\n",
    "\n",
    "plt.plot(x, y)  # Add a semi-colon to prevent the display of object details"
   ]
  },
  {
   "cell_type": "markdown",
   "metadata": {
    "slideshow": {
     "slide_type": "slide"
    }
   },
   "source": [
    "### Interactive Widgets\n",
    "\n",
    "If you create a function that accepts one or more parameters, you may be able to use it as the basis of an automatically generated application.\n",
    "\n",
    "For example, suppose we have a function that will plot a sine wave over the range 0..2 pi for a specified frequency, passed into the function as a parameter:"
   ]
  },
  {
   "cell_type": "code",
   "execution_count": null,
   "metadata": {
    "jupyter": {
     "outputs_hidden": false
    },
    "slideshow": {
     "slide_type": "fragment"
    }
   },
   "outputs": [],
   "source": [
    "def sinplot(f=1):\n",
    "    # Define a range of x values\n",
    "    x = np.linspace(0, 2*np.pi, 1000)  \n",
    "    # Plot a sine wave with the specified frequency over that range\n",
    "    y = np.sin(f*x)\n",
    "    # Plot the chart\n",
    "    plt.plot(x, y)\n",
    "    \n",
    "sinplot(f=3)"
   ]
  },
  {
   "cell_type": "markdown",
   "metadata": {
    "slideshow": {
     "slide_type": "slide"
    }
   },
   "source": [
    "### Using ipywidgets `interact()`\n",
    "\n",
    "Pass the name of your function, and the default values of the parameters, to the *ipywidgets* `interact()` function to automatically create interactive widgets to control the parameter values."
   ]
  },
  {
   "cell_type": "code",
   "execution_count": null,
   "metadata": {
    "slideshow": {
     "slide_type": "-"
    }
   },
   "outputs": [],
   "source": [
    "from ipywidgets import interact"
   ]
  },
  {
   "cell_type": "markdown",
   "metadata": {
    "slideshow": {
     "slide_type": "slide"
    }
   },
   "source": [
    "### Using ipywidgets `interact()`"
   ]
  },
  {
   "cell_type": "code",
   "execution_count": null,
   "metadata": {
    "jupyter": {
     "outputs_hidden": false
    },
    "slideshow": {
     "slide_type": "-"
    }
   },
   "outputs": [],
   "source": [
    "interact(sinplot, f=5);"
   ]
  },
  {
   "cell_type": "markdown",
   "metadata": {
    "slideshow": {
     "slide_type": "slide"
    }
   },
   "source": [
    "### Using ipywidgets `interact()`\n",
    "\n",
    "You can also specify the range of values Applied to an `interact()` slider:\n",
    "\n",
    "```\n",
    "interact(sinplot, f=[0,20])\n",
    "```\n",
    "\n",
    "Or the range of values and the step size:\n",
    "   \n",
    "```\n",
    "interact(sinplot, f=[0,20,5])\n",
    "```"
   ]
  },
  {
   "cell_type": "markdown",
   "metadata": {
    "slideshow": {
     "slide_type": "slide"
    }
   },
   "source": [
    "## Checking Reproducibility\n",
    "\n",
    "Clear the output of a selected cell: `Cell → Current Output → Clear`\n",
    "\n",
    "Clear the output of all cells in the notebook:  `Cell → All Output → Clear`\n",
    "\n",
    "*Note the the state of the underlying kernel __will not__ be affected - only the rendered display in the notebook.*"
   ]
  },
  {
   "cell_type": "markdown",
   "metadata": {
    "slideshow": {
     "slide_type": "slide"
    }
   },
   "source": [
    "## Checking Reproducibility\n",
    "\n",
    "Run multiple cells:\n",
    "\n",
    "- `Cell → Run All Above`\n",
    "- `Cell → Run All Below`\n",
    "- `Cell → Run All`\n",
    "\n",
    "Run cells from scratch (i.e. from a fresh kernel), `Kernel → Restart and Clear Output` and then run the cells you want.\n",
    "\n",
    "To run all the cells in the notebook from scratch: `Kernel → Restart and Run All`"
   ]
  },
  {
   "cell_type": "markdown",
   "metadata": {
    "slideshow": {
     "slide_type": "slide"
    }
   },
   "source": [
    "### Getting Help\n",
    "\n",
    "Find help files for the notebooks from the *Help* menu.\n",
    "\n",
    "Display keyboard shortcuts using `Help → Keyboard Shortcuts` or `ESC-H`/`CTRL-M-H`."
   ]
  },
  {
   "cell_type": "markdown",
   "metadata": {
    "slideshow": {
     "slide_type": "fragment"
    }
   },
   "source": [
    "Code cells support __autocomplete__: start typing and then `TAB` to see what options are available..."
   ]
  },
  {
   "cell_type": "markdown",
   "metadata": {
    "slideshow": {
     "slide_type": "fragment"
    }
   },
   "source": [
    "Access documentation for a function - add a `?` and run the cell:"
   ]
  },
  {
   "cell_type": "code",
   "execution_count": null,
   "metadata": {
    "jupyter": {
     "outputs_hidden": true
    },
    "slideshow": {
     "slide_type": "-"
    }
   },
   "outputs": [],
   "source": [
    "pd.DataFrame?"
   ]
  },
  {
   "cell_type": "markdown",
   "metadata": {
    "slideshow": {
     "slide_type": "slide"
    }
   },
   "source": [
    "### Saving, Checkpointing and Reverting the Notebook\n",
    "\n",
    "The notebook wil autosave every few minutes.\n",
    "\n",
    "You can also create a checkpoint using the floppy/save icon on the toolbar or `File → Save and Checkpoint`.\n",
    "\n",
    "You can revert the notebook to a saved checkpoint using `File → Revert to Saved Checkpoint`."
   ]
  },
  {
   "cell_type": "markdown",
   "metadata": {
    "slideshow": {
     "slide_type": "slide"
    }
   },
   "source": [
    "### Permanently Running Cells\n",
    "\n",
    "Code cells that are running (or queued for running) display an asterisk in the cell `In []` indicator.\n",
    "\n",
    "To stop execution of a running cell (and prevent queued cells from executing):\n",
    "- Press the stop button on the toolbar\n",
    "- `Kernel → Interrupt`\n",
    "\n",
    "If the notebook is still hanging, you may need to restart the kernel:  `Kernel → Restart`"
   ]
  },
  {
   "cell_type": "markdown",
   "metadata": {
    "slideshow": {
     "slide_type": "slide"
    }
   },
   "source": [
    "### Slideshow\n",
    "\n",
    "This slide deck was produced from a notebook styled as a slideeck:\n",
    "\n",
    "- `View → Cell Toolbar → Slideshow`, and then either: \n",
    "  - `$ jupyter nbconvert slideTest.ipynb --to slides --post serve`, or\n",
    "  - `$ jupyter nbconvert slideTest.ipynb --to slides && python -m SimpleHTTPServer 8000`.\n",
    "  - Then go to the URL `localhost:8000` in your browser\n",
    "\n",
    "Alternatively, you can use RISE and click on the <i class=\"fa-bar-chart fa\"></i> button."
   ]
  },
  {
   "cell_type": "markdown",
   "metadata": {
    "slideshow": {
     "slide_type": "slide"
    }
   },
   "source": [
    "## Exporting\n",
    "\n",
    "The option `File → Download as` will open a menu with options to download the Notebook in different formats.\n",
    "\n",
    "For PDF and HTML, additional tools must be installed at the system level: [nbconvert, pandoc and TeX](https://nbconvert.readthedocs.io/en/latest/install.html#installing-pandoc)."
   ]
  },
  {
   "cell_type": "markdown",
   "metadata": {
    "slideshow": {
     "slide_type": "slide"
    }
   },
   "source": [
    "### Voilà!\n",
    "\n",
    "[Voilà](https://github.com/voila-dashboards/voila) turns Jupyter notebooks into standalone web applications."
   ]
  },
  {
   "cell_type": "code",
   "execution_count": null,
   "metadata": {
    "slideshow": {
     "slide_type": "-"
    }
   },
   "outputs": [],
   "source": [
    "from ipywidgets import HBox, VBox, IntSlider, interactive_output\n",
    "from IPython.display import display\n",
    "\n",
    "a = IntSlider()\n",
    "b = IntSlider()\n",
    "\n",
    "def f(a, b):\n",
    "    print(\"{} * {} = {}\".format(a, b, a * b))\n",
    "\n",
    "out = interactive_output(f, { \"a\": a, \"b\": b })\n",
    "\n",
    "display(HBox([VBox([a, b]), out]))"
   ]
  },
  {
   "cell_type": "markdown",
   "metadata": {
    "slideshow": {
     "slide_type": "slide"
    }
   },
   "source": [
    "### Reproducible Research with Jupyter\n",
    "\n",
    "Let's now see an [example of how to do actual reproducible research with Jupyter](./research.ipynb)."
   ]
  }
 ],
 "metadata": {
  "celltoolbar": "Slideshow",
  "kernelspec": {
   "display_name": "Python 3",
   "language": "python",
   "name": "python3"
  },
  "language_info": {
   "codemirror_mode": {
    "name": "ipython",
    "version": 3
   },
   "file_extension": ".py",
   "mimetype": "text/x-python",
   "name": "python",
   "nbconvert_exporter": "python",
   "pygments_lexer": "ipython3",
   "version": "3.7.4"
  },
  "rise": {
   "enable_chalkboard": false,
   "footer": "<div style='width: 50%;display: inline-block;color: white;background-color: black;text-align: right;padding: .5em;font-size: 1.2em;'> DESIR Winter School</div><div style='width: 50%;display: inline-block;color: white;background-color: #3333B3;text-align: left;padding: .5em;font-size: 1.2em;'>Open Research Notebooks</div></div>",
   "scroll": true,
   "start_slideshow_at": "selected"
  },
  "widgets": {
   "state": {},
   "version": "1.1.2"
  }
 },
 "nbformat": 4,
 "nbformat_minor": 4
}
